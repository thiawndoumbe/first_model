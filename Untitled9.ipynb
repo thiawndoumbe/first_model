{
 "cells": [
  {
   "cell_type": "code",
   "execution_count": 2,
   "id": "db53245e",
   "metadata": {},
   "outputs": [],
   "source": [
    "import pandas as pd\n",
    "import numpy as np\n",
    "import matplotlib.pyplot as plt"
   ]
  },
  {
   "cell_type": "code",
   "execution_count": 3,
   "id": "ae4b4645",
   "metadata": {},
   "outputs": [],
   "source": [
    "df=pd.read_csv(\"AmesHousing.txt\",sep=\"\\t\")"
   ]
  },
  {
   "cell_type": "code",
   "execution_count": 4,
   "id": "06cdfef3",
   "metadata": {},
   "outputs": [
    {
     "data": {
      "text/plain": [
       "Index(['Order', 'PID', 'MS SubClass', 'MS Zoning', 'Lot Frontage', 'Lot Area',\n",
       "       'Street', 'Alley', 'Lot Shape', 'Land Contour', 'Utilities',\n",
       "       'Lot Config', 'Land Slope', 'Neighborhood', 'Condition 1',\n",
       "       'Condition 2', 'Bldg Type', 'House Style', 'Overall Qual',\n",
       "       'Overall Cond', 'Year Built', 'Year Remod/Add', 'Roof Style',\n",
       "       'Roof Matl', 'Exterior 1st', 'Exterior 2nd', 'Mas Vnr Type',\n",
       "       'Mas Vnr Area', 'Exter Qual', 'Exter Cond', 'Foundation', 'Bsmt Qual',\n",
       "       'Bsmt Cond', 'Bsmt Exposure', 'BsmtFin Type 1', 'BsmtFin SF 1',\n",
       "       'BsmtFin Type 2', 'BsmtFin SF 2', 'Bsmt Unf SF', 'Total Bsmt SF',\n",
       "       'Heating', 'Heating QC', 'Central Air', 'Electrical', '1st Flr SF',\n",
       "       '2nd Flr SF', 'Low Qual Fin SF', 'Gr Liv Area', 'Bsmt Full Bath',\n",
       "       'Bsmt Half Bath', 'Full Bath', 'Half Bath', 'Bedroom AbvGr',\n",
       "       'Kitchen AbvGr', 'Kitchen Qual', 'TotRms AbvGrd', 'Functional',\n",
       "       'Fireplaces', 'Fireplace Qu', 'Garage Type', 'Garage Yr Blt',\n",
       "       'Garage Finish', 'Garage Cars', 'Garage Area', 'Garage Qual',\n",
       "       'Garage Cond', 'Paved Drive', 'Wood Deck SF', 'Open Porch SF',\n",
       "       'Enclosed Porch', '3Ssn Porch', 'Screen Porch', 'Pool Area', 'Pool QC',\n",
       "       'Fence', 'Misc Feature', 'Misc Val', 'Mo Sold', 'Yr Sold', 'Sale Type',\n",
       "       'Sale Condition', 'SalePrice'],\n",
       "      dtype='object')"
      ]
     },
     "execution_count": 4,
     "metadata": {},
     "output_type": "execute_result"
    }
   ],
   "source": [
    "df.columns"
   ]
  },
  {
   "cell_type": "code",
   "execution_count": 5,
   "id": "f9c50b89",
   "metadata": {},
   "outputs": [
    {
     "data": {
      "text/plain": [
       "(2930, 82)"
      ]
     },
     "execution_count": 5,
     "metadata": {},
     "output_type": "execute_result"
    }
   ],
   "source": [
    "df.shape"
   ]
  },
  {
   "cell_type": "code",
   "execution_count": 6,
   "id": "d59b5384",
   "metadata": {},
   "outputs": [
    {
     "name": "stdout",
     "output_type": "stream",
     "text": [
      "<class 'pandas.core.frame.DataFrame'>\n",
      "RangeIndex: 1460 entries, 0 to 1459\n",
      "Data columns (total 82 columns):\n",
      " #   Column           Non-Null Count  Dtype  \n",
      "---  ------           --------------  -----  \n",
      " 0   Order            1460 non-null   int64  \n",
      " 1   PID              1460 non-null   int64  \n",
      " 2   MS SubClass      1460 non-null   int64  \n",
      " 3   MS Zoning        1460 non-null   object \n",
      " 4   Lot Frontage     1211 non-null   float64\n",
      " 5   Lot Area         1460 non-null   int64  \n",
      " 6   Street           1460 non-null   object \n",
      " 7   Alley            109 non-null    object \n",
      " 8   Lot Shape        1460 non-null   object \n",
      " 9   Land Contour     1460 non-null   object \n",
      " 10  Utilities        1460 non-null   object \n",
      " 11  Lot Config       1460 non-null   object \n",
      " 12  Land Slope       1460 non-null   object \n",
      " 13  Neighborhood     1460 non-null   object \n",
      " 14  Condition 1      1460 non-null   object \n",
      " 15  Condition 2      1460 non-null   object \n",
      " 16  Bldg Type        1460 non-null   object \n",
      " 17  House Style      1460 non-null   object \n",
      " 18  Overall Qual     1460 non-null   int64  \n",
      " 19  Overall Cond     1460 non-null   int64  \n",
      " 20  Year Built       1460 non-null   int64  \n",
      " 21  Year Remod/Add   1460 non-null   int64  \n",
      " 22  Roof Style       1460 non-null   object \n",
      " 23  Roof Matl        1460 non-null   object \n",
      " 24  Exterior 1st     1460 non-null   object \n",
      " 25  Exterior 2nd     1460 non-null   object \n",
      " 26  Mas Vnr Type     1449 non-null   object \n",
      " 27  Mas Vnr Area     1449 non-null   float64\n",
      " 28  Exter Qual       1460 non-null   object \n",
      " 29  Exter Cond       1460 non-null   object \n",
      " 30  Foundation       1460 non-null   object \n",
      " 31  Bsmt Qual        1420 non-null   object \n",
      " 32  Bsmt Cond        1420 non-null   object \n",
      " 33  Bsmt Exposure    1419 non-null   object \n",
      " 34  BsmtFin Type 1   1420 non-null   object \n",
      " 35  BsmtFin SF 1     1459 non-null   float64\n",
      " 36  BsmtFin Type 2   1419 non-null   object \n",
      " 37  BsmtFin SF 2     1459 non-null   float64\n",
      " 38  Bsmt Unf SF      1459 non-null   float64\n",
      " 39  Total Bsmt SF    1459 non-null   float64\n",
      " 40  Heating          1460 non-null   object \n",
      " 41  Heating QC       1460 non-null   object \n",
      " 42  Central Air      1460 non-null   object \n",
      " 43  Electrical       1460 non-null   object \n",
      " 44  1st Flr SF       1460 non-null   int64  \n",
      " 45  2nd Flr SF       1460 non-null   int64  \n",
      " 46  Low Qual Fin SF  1460 non-null   int64  \n",
      " 47  Gr Liv Area      1460 non-null   int64  \n",
      " 48  Bsmt Full Bath   1459 non-null   float64\n",
      " 49  Bsmt Half Bath   1459 non-null   float64\n",
      " 50  Full Bath        1460 non-null   int64  \n",
      " 51  Half Bath        1460 non-null   int64  \n",
      " 52  Bedroom AbvGr    1460 non-null   int64  \n",
      " 53  Kitchen AbvGr    1460 non-null   int64  \n",
      " 54  Kitchen Qual     1460 non-null   object \n",
      " 55  TotRms AbvGrd    1460 non-null   int64  \n",
      " 56  Functional       1460 non-null   object \n",
      " 57  Fireplaces       1460 non-null   int64  \n",
      " 58  Fireplace Qu     743 non-null    object \n",
      " 59  Garage Type      1386 non-null   object \n",
      " 60  Garage Yr Blt    1385 non-null   float64\n",
      " 61  Garage Finish    1385 non-null   object \n",
      " 62  Garage Cars      1460 non-null   float64\n",
      " 63  Garage Area      1460 non-null   float64\n",
      " 64  Garage Qual      1385 non-null   object \n",
      " 65  Garage Cond      1385 non-null   object \n",
      " 66  Paved Drive      1460 non-null   object \n",
      " 67  Wood Deck SF     1460 non-null   int64  \n",
      " 68  Open Porch SF    1460 non-null   int64  \n",
      " 69  Enclosed Porch   1460 non-null   int64  \n",
      " 70  3Ssn Porch       1460 non-null   int64  \n",
      " 71  Screen Porch     1460 non-null   int64  \n",
      " 72  Pool Area        1460 non-null   int64  \n",
      " 73  Pool QC          1 non-null      object \n",
      " 74  Fence            297 non-null    object \n",
      " 75  Misc Feature     60 non-null     object \n",
      " 76  Misc Val         1460 non-null   int64  \n",
      " 77  Mo Sold          1460 non-null   int64  \n",
      " 78  Yr Sold          1460 non-null   int64  \n",
      " 79  Sale Type        1460 non-null   object \n",
      " 80  Sale Condition   1460 non-null   object \n",
      " 81  SalePrice        1460 non-null   int64  \n",
      "dtypes: float64(11), int64(28), object(43)\n",
      "memory usage: 935.4+ KB\n",
      "None\n",
      "<class 'pandas.core.frame.DataFrame'>\n",
      "RangeIndex: 1470 entries, 1460 to 2929\n",
      "Data columns (total 82 columns):\n",
      " #   Column           Non-Null Count  Dtype  \n",
      "---  ------           --------------  -----  \n",
      " 0   Order            1470 non-null   int64  \n",
      " 1   PID              1470 non-null   int64  \n",
      " 2   MS SubClass      1470 non-null   int64  \n",
      " 3   MS Zoning        1470 non-null   object \n",
      " 4   Lot Frontage     1229 non-null   float64\n",
      " 5   Lot Area         1470 non-null   int64  \n",
      " 6   Street           1470 non-null   object \n",
      " 7   Alley            89 non-null     object \n",
      " 8   Lot Shape        1470 non-null   object \n",
      " 9   Land Contour     1470 non-null   object \n",
      " 10  Utilities        1470 non-null   object \n",
      " 11  Lot Config       1470 non-null   object \n",
      " 12  Land Slope       1470 non-null   object \n",
      " 13  Neighborhood     1470 non-null   object \n",
      " 14  Condition 1      1470 non-null   object \n",
      " 15  Condition 2      1470 non-null   object \n",
      " 16  Bldg Type        1470 non-null   object \n",
      " 17  House Style      1470 non-null   object \n",
      " 18  Overall Qual     1470 non-null   int64  \n",
      " 19  Overall Cond     1470 non-null   int64  \n",
      " 20  Year Built       1470 non-null   int64  \n",
      " 21  Year Remod/Add   1470 non-null   int64  \n",
      " 22  Roof Style       1470 non-null   object \n",
      " 23  Roof Matl        1470 non-null   object \n",
      " 24  Exterior 1st     1470 non-null   object \n",
      " 25  Exterior 2nd     1470 non-null   object \n",
      " 26  Mas Vnr Type     1458 non-null   object \n",
      " 27  Mas Vnr Area     1458 non-null   float64\n",
      " 28  Exter Qual       1470 non-null   object \n",
      " 29  Exter Cond       1470 non-null   object \n",
      " 30  Foundation       1470 non-null   object \n",
      " 31  Bsmt Qual        1430 non-null   object \n",
      " 32  Bsmt Cond        1430 non-null   object \n",
      " 33  Bsmt Exposure    1428 non-null   object \n",
      " 34  BsmtFin Type 1   1430 non-null   object \n",
      " 35  BsmtFin SF 1     1470 non-null   float64\n",
      " 36  BsmtFin Type 2   1430 non-null   object \n",
      " 37  BsmtFin SF 2     1470 non-null   float64\n",
      " 38  Bsmt Unf SF      1470 non-null   float64\n",
      " 39  Total Bsmt SF    1470 non-null   float64\n",
      " 40  Heating          1470 non-null   object \n",
      " 41  Heating QC       1470 non-null   object \n",
      " 42  Central Air      1470 non-null   object \n",
      " 43  Electrical       1469 non-null   object \n",
      " 44  1st Flr SF       1470 non-null   int64  \n",
      " 45  2nd Flr SF       1470 non-null   int64  \n",
      " 46  Low Qual Fin SF  1470 non-null   int64  \n",
      " 47  Gr Liv Area      1470 non-null   int64  \n",
      " 48  Bsmt Full Bath   1469 non-null   float64\n",
      " 49  Bsmt Half Bath   1469 non-null   float64\n",
      " 50  Full Bath        1470 non-null   int64  \n",
      " 51  Half Bath        1470 non-null   int64  \n",
      " 52  Bedroom AbvGr    1470 non-null   int64  \n",
      " 53  Kitchen AbvGr    1470 non-null   int64  \n",
      " 54  Kitchen Qual     1470 non-null   object \n",
      " 55  TotRms AbvGrd    1470 non-null   int64  \n",
      " 56  Functional       1470 non-null   object \n",
      " 57  Fireplaces       1470 non-null   int64  \n",
      " 58  Fireplace Qu     765 non-null    object \n",
      " 59  Garage Type      1387 non-null   object \n",
      " 60  Garage Yr Blt    1386 non-null   float64\n",
      " 61  Garage Finish    1386 non-null   object \n",
      " 62  Garage Cars      1469 non-null   float64\n",
      " 63  Garage Area      1469 non-null   float64\n",
      " 64  Garage Qual      1386 non-null   object \n",
      " 65  Garage Cond      1386 non-null   object \n",
      " 66  Paved Drive      1470 non-null   object \n",
      " 67  Wood Deck SF     1470 non-null   int64  \n",
      " 68  Open Porch SF    1470 non-null   int64  \n",
      " 69  Enclosed Porch   1470 non-null   int64  \n",
      " 70  3Ssn Porch       1470 non-null   int64  \n",
      " 71  Screen Porch     1470 non-null   int64  \n",
      " 72  Pool Area        1470 non-null   int64  \n",
      " 73  Pool QC          12 non-null     object \n",
      " 74  Fence            275 non-null    object \n",
      " 75  Misc Feature     46 non-null     object \n",
      " 76  Misc Val         1470 non-null   int64  \n",
      " 77  Mo Sold          1470 non-null   int64  \n",
      " 78  Yr Sold          1470 non-null   int64  \n",
      " 79  Sale Type        1470 non-null   object \n",
      " 80  Sale Condition   1470 non-null   object \n",
      " 81  SalePrice        1470 non-null   int64  \n",
      "dtypes: float64(11), int64(28), object(43)\n",
      "memory usage: 941.8+ KB\n",
      "None\n"
     ]
    }
   ],
   "source": [
    "train=df[0:1460]\n",
    "test=df[1460:2930]\n",
    "print(train.info())\n",
    "print(test.info())"
   ]
  },
  {
   "cell_type": "code",
   "execution_count": 7,
   "id": "d1c58b35",
   "metadata": {},
   "outputs": [],
   "source": [
    "target='SalePrice'"
   ]
  },
  {
   "cell_type": "raw",
   "id": "c83bff06",
   "metadata": {},
   "source": []
  },
  {
   "cell_type": "code",
   "execution_count": 8,
   "id": "3228d206",
   "metadata": {},
   "outputs": [
    {
     "data": {
      "text/plain": [
       "'SalePrice'"
      ]
     },
     "execution_count": 8,
     "metadata": {},
     "output_type": "execute_result"
    }
   ],
   "source": [
    "target"
   ]
  },
  {
   "cell_type": "code",
   "execution_count": 9,
   "id": "f3a8de54",
   "metadata": {},
   "outputs": [
    {
     "data": {
      "text/plain": [
       "Index(['Order', 'PID', 'MS SubClass', 'MS Zoning', 'Lot Frontage', 'Lot Area',\n",
       "       'Street', 'Alley', 'Lot Shape', 'Land Contour', 'Utilities',\n",
       "       'Lot Config', 'Land Slope', 'Neighborhood', 'Condition 1',\n",
       "       'Condition 2', 'Bldg Type', 'House Style', 'Overall Qual',\n",
       "       'Overall Cond', 'Year Built', 'Year Remod/Add', 'Roof Style',\n",
       "       'Roof Matl', 'Exterior 1st', 'Exterior 2nd', 'Mas Vnr Type',\n",
       "       'Mas Vnr Area', 'Exter Qual', 'Exter Cond', 'Foundation', 'Bsmt Qual',\n",
       "       'Bsmt Cond', 'Bsmt Exposure', 'BsmtFin Type 1', 'BsmtFin SF 1',\n",
       "       'BsmtFin Type 2', 'BsmtFin SF 2', 'Bsmt Unf SF', 'Total Bsmt SF',\n",
       "       'Heating', 'Heating QC', 'Central Air', 'Electrical', '1st Flr SF',\n",
       "       '2nd Flr SF', 'Low Qual Fin SF', 'Gr Liv Area', 'Bsmt Full Bath',\n",
       "       'Bsmt Half Bath', 'Full Bath', 'Half Bath', 'Bedroom AbvGr',\n",
       "       'Kitchen AbvGr', 'Kitchen Qual', 'TotRms AbvGrd', 'Functional',\n",
       "       'Fireplaces', 'Fireplace Qu', 'Garage Type', 'Garage Yr Blt',\n",
       "       'Garage Finish', 'Garage Cars', 'Garage Area', 'Garage Qual',\n",
       "       'Garage Cond', 'Paved Drive', 'Wood Deck SF', 'Open Porch SF',\n",
       "       'Enclosed Porch', '3Ssn Porch', 'Screen Porch', 'Pool Area', 'Pool QC',\n",
       "       'Fence', 'Misc Feature', 'Misc Val', 'Mo Sold', 'Yr Sold', 'Sale Type',\n",
       "       'Sale Condition', 'SalePrice'],\n",
       "      dtype='object')"
      ]
     },
     "execution_count": 9,
     "metadata": {},
     "output_type": "execute_result"
    }
   ],
   "source": [
    "df.columns"
   ]
  },
  {
   "cell_type": "code",
   "execution_count": 18,
   "id": "3a73c80f",
   "metadata": {},
   "outputs": [
    {
     "data": {
      "text/plain": [
       "<function matplotlib.pyplot.show(close=None, block=None)>"
      ]
     },
     "execution_count": 18,
     "metadata": {},
     "output_type": "execute_result"
    },
    {
     "data": {
      "image/png": "[encoded data removed]",
      "text/plain": [
       "<Figure size 700x1500 with 3 Axes>"
      ]
     },
     "metadata": {},
     "output_type": "display_data"
    }
   ],
   "source": [
    "fig=plt.figure(figsize=(7,15))\n",
    "axe1=fig.add_subplot(3,1,1)\n",
    "axe2=fig.add_subplot(3,1,2)\n",
    "axe3=fig.add_subplot(3,1,3)\n",
    "train.plot(x='Garage Area',y='SalePrice',ax=axe1,kind=\"hist\")\n",
    "# train.plot(x='Overall Cond',y='SalePrice',ax=axe2,kind=\"scatter\")\n",
    "# train.plot(x='Garage Cond',y='SalePrice',ax=axe3,kind=\"scatter\")\n",
    "plt.show\n"
   ]
  },
  {
   "cell_type": "code",
   "execution_count": null,
   "id": "62672914",
   "metadata": {},
   "outputs": [],
   "source": []
  },
  {
   "cell_type": "code",
   "execution_count": null,
   "id": "5a8d83b9",
   "metadata": {},
   "outputs": [],
   "source": []
  }
 ],
 "metadata": {
  "kernelspec": {
   "display_name": "Python 3 (ipykernel)",
   "language": "python",
   "name": "python3"
  },
  "language_info": {
   "codemirror_mode": {
    "name": "ipython",
    "version": 3
   },
   "file_extension": ".py",
   "mimetype": "text/x-python",
   "name": "python",
   "nbconvert_exporter": "python",
   "pygments_lexer": "ipython3",
   "version": "3.9.13"
  }
 },
 "nbformat": 4,
 "nbformat_minor": 5
}
