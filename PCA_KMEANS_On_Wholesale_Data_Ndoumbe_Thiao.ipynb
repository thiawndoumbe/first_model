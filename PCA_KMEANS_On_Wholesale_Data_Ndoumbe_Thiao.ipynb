{
 "cells": [
  {
   "cell_type": "markdown",
   "metadata": {
    "id": "Zyd9BHLefwOF"
   },
   "source": [
    "### Importer les librairies requises"
   ]
  },
  {
   "cell_type": "code",
   "execution_count": 2,
   "metadata": {
    "id": "hxji18njfwOG"
   },
   "outputs": [],
   "source": [
    "# Importer les packages\n",
    "import pandas as pd\n",
    "import numpy as np\n",
    "import matplotlib.pyplot as plt"
   ]
  },
  {
   "cell_type": "markdown",
   "metadata": {
    "id": "gSs83KrZfwOH"
   },
   "source": [
    "### Import et lire les données"
   ]
  },
  {
   "cell_type": "code",
   "execution_count": 3,
   "metadata": {
    "id": "9i0Nb8nyfwOI"
   },
   "outputs": [],
   "source": [
    "# Importer les données Wholesale_customers_Data\n",
    "data = pd.read_csv(\"Wholesale_customers_data.csv\")"
   ]
  },
  {
   "cell_type": "code",
   "execution_count": 4,
   "metadata": {
    "id": "skWcmI6hGth0"
   },
   "outputs": [
    {
     "data": {
      "text/html": [
       "<div>\n",
       "<style scoped>\n",
       "    .dataframe tbody tr th:only-of-type {\n",
       "        vertical-align: middle;\n",
       "    }\n",
       "\n",
       "    .dataframe tbody tr th {\n",
       "        vertical-align: top;\n",
       "    }\n",
       "\n",
       "    .dataframe thead th {\n",
       "        text-align: right;\n",
       "    }\n",
       "</style>\n",
       "<table border=\"1\" class=\"dataframe\">\n",
       "  <thead>\n",
       "    <tr style=\"text-align: right;\">\n",
       "      <th></th>\n",
       "      <th>Fresh</th>\n",
       "      <th>Milk</th>\n",
       "      <th>Grocery</th>\n",
       "      <th>Frozen</th>\n",
       "      <th>Detergents_Paper</th>\n",
       "      <th>Delicassen</th>\n",
       "    </tr>\n",
       "  </thead>\n",
       "  <tbody>\n",
       "    <tr>\n",
       "      <th>0</th>\n",
       "      <td>12669</td>\n",
       "      <td>9656</td>\n",
       "      <td>7561</td>\n",
       "      <td>214</td>\n",
       "      <td>2674</td>\n",
       "      <td>1338</td>\n",
       "    </tr>\n",
       "    <tr>\n",
       "      <th>1</th>\n",
       "      <td>7057</td>\n",
       "      <td>9810</td>\n",
       "      <td>9568</td>\n",
       "      <td>1762</td>\n",
       "      <td>3293</td>\n",
       "      <td>1776</td>\n",
       "    </tr>\n",
       "    <tr>\n",
       "      <th>2</th>\n",
       "      <td>6353</td>\n",
       "      <td>8808</td>\n",
       "      <td>7684</td>\n",
       "      <td>2405</td>\n",
       "      <td>3516</td>\n",
       "      <td>7844</td>\n",
       "    </tr>\n",
       "    <tr>\n",
       "      <th>3</th>\n",
       "      <td>13265</td>\n",
       "      <td>1196</td>\n",
       "      <td>4221</td>\n",
       "      <td>6404</td>\n",
       "      <td>507</td>\n",
       "      <td>1788</td>\n",
       "    </tr>\n",
       "    <tr>\n",
       "      <th>4</th>\n",
       "      <td>22615</td>\n",
       "      <td>5410</td>\n",
       "      <td>7198</td>\n",
       "      <td>3915</td>\n",
       "      <td>1777</td>\n",
       "      <td>5185</td>\n",
       "    </tr>\n",
       "  </tbody>\n",
       "</table>\n",
       "</div>"
      ],
      "text/plain": [
       "   Fresh  Milk  Grocery  Frozen  Detergents_Paper  Delicassen\n",
       "0  12669  9656     7561     214              2674        1338\n",
       "1   7057  9810     9568    1762              3293        1776\n",
       "2   6353  8808     7684    2405              3516        7844\n",
       "3  13265  1196     4221    6404               507        1788\n",
       "4  22615  5410     7198    3915              1777        5185"
      ]
     },
     "execution_count": 4,
     "metadata": {},
     "output_type": "execute_result"
    }
   ],
   "source": [
    "# Afficher les 10 dernières lignes des données\n",
    "data.head()"
   ]
  },
  {
   "cell_type": "code",
   "execution_count": 5,
   "metadata": {
    "id": "3O0fxtGZHNdG"
   },
   "outputs": [
    {
     "data": {
      "text/plain": [
       "(440, 6)"
      ]
     },
     "execution_count": 5,
     "metadata": {},
     "output_type": "execute_result"
    }
   ],
   "source": [
    "# Afficher la dimension des données\n",
    "data.shape"
   ]
  },
  {
   "cell_type": "code",
   "execution_count": 6,
   "metadata": {
    "id": "-i-FhyuTon3j"
   },
   "outputs": [
    {
     "data": {
      "text/plain": [
       "Fresh               int64\n",
       "Milk                int64\n",
       "Grocery             int64\n",
       "Frozen              int64\n",
       "Detergents_Paper    int64\n",
       "Delicassen          int64\n",
       "dtype: object"
      ]
     },
     "execution_count": 6,
     "metadata": {},
     "output_type": "execute_result"
    }
   ],
   "source": [
    "# Vérifier les types des données\n",
    "data.dtypes"
   ]
  },
  {
   "cell_type": "code",
   "execution_count": 7,
   "metadata": {
    "id": "MXy4Vqblo1xQ"
   },
   "outputs": [
    {
     "data": {
      "text/plain": [
       "Fresh               0\n",
       "Milk                0\n",
       "Grocery             0\n",
       "Frozen              0\n",
       "Detergents_Paper    0\n",
       "Delicassen          0\n",
       "dtype: int64"
      ]
     },
     "execution_count": 7,
     "metadata": {},
     "output_type": "execute_result"
    }
   ],
   "source": [
    "# Vérifier l'existence de valeurs manquantes\n",
    "data.isnull().sum()"
   ]
  },
  {
   "cell_type": "code",
   "execution_count": 9,
   "metadata": {
    "id": "Gvs0zbEco9u1"
   },
   "outputs": [
    {
     "data": {
      "text/plain": [
       "<bound method NDFrame.describe of      Fresh   Milk  Grocery  Frozen  Detergents_Paper  Delicassen\n",
       "0    12669   9656     7561     214              2674        1338\n",
       "1     7057   9810     9568    1762              3293        1776\n",
       "2     6353   8808     7684    2405              3516        7844\n",
       "3    13265   1196     4221    6404               507        1788\n",
       "4    22615   5410     7198    3915              1777        5185\n",
       "..     ...    ...      ...     ...               ...         ...\n",
       "435  29703  12051    16027   13135               182        2204\n",
       "436  39228   1431      764    4510                93        2346\n",
       "437  14531  15488    30243     437             14841        1867\n",
       "438  10290   1981     2232    1038               168        2125\n",
       "439   2787   1698     2510      65               477          52\n",
       "\n",
       "[440 rows x 6 columns]>"
      ]
     },
     "execution_count": 9,
     "metadata": {},
     "output_type": "execute_result"
    }
   ],
   "source": [
    "# Décrire les données \n",
    "data.describe"
   ]
  },
  {
   "cell_type": "markdown",
   "metadata": {
    "id": "ZxQJMPhZfwOK"
   },
   "source": [
    "### Normaliser les données"
   ]
  },
  {
   "cell_type": "code",
   "execution_count": 25,
   "metadata": {
    "id": "n74vfH_9pgYL"
   },
   "outputs": [
    {
     "data": {
      "text/plain": [
       "array([[12669,  9656,  7561,   214,  2674,  1338],\n",
       "       [ 7057,  9810,  9568,  1762,  3293,  1776],\n",
       "       [ 6353,  8808,  7684,  2405,  3516,  7844],\n",
       "       ...,\n",
       "       [14531, 15488, 30243,   437, 14841,  1867],\n",
       "       [10290,  1981,  2232,  1038,   168,  2125],\n",
       "       [ 2787,  1698,  2510,    65,   477,    52]], dtype=int64)"
      ]
     },
     "execution_count": 25,
     "metadata": {},
     "output_type": "execute_result"
    }
   ],
   "source": [
    "# Transformer le dataframe des données en format matriciel\n",
    " \n",
    "X = data.iloc[:,:6].values\n",
    "X"
   ]
  },
  {
   "cell_type": "code",
   "execution_count": 35,
   "metadata": {
    "id": "MJVpOI0MfwOL"
   },
   "outputs": [
    {
     "data": {
      "text/plain": [
       "array([[0.70833271, 0.53987376, 0.42274083, 0.01196489, 0.14950522,\n",
       "        0.07480852],\n",
       "       [0.44219826, 0.61470384, 0.59953989, 0.11040858, 0.20634248,\n",
       "        0.11128583],\n",
       "       [0.39655169, 0.5497918 , 0.47963217, 0.15011913, 0.2194673 ,\n",
       "        0.48961931],\n",
       "       [0.85683654, 0.07725417, 0.27265036, 0.41365859, 0.03274905,\n",
       "        0.11549369],\n",
       "       [0.89541593, 0.21420297, 0.28499685, 0.1550101 , 0.07035835,\n",
       "        0.20529434]])"
      ]
     },
     "execution_count": 35,
     "metadata": {},
     "output_type": "execute_result"
    }
   ],
   "source": [
    "from sklearn.preprocessing import normalize\n",
    "# Normaliser X en utilisant la fonction normalize\n",
    "Z =  normalize(X)\n",
    "# Afficher les cinq premières lignes de la matrice des données normalisées\n",
    "Z[:5]\n"
   ]
  },
  {
   "cell_type": "markdown",
   "metadata": {
    "id": "ekhy4FOKfwOM"
   },
   "source": [
    "### ACP en utilisant le modèle PCA de sklearn"
   ]
  },
  {
   "cell_type": "code",
   "execution_count": 39,
   "metadata": {
    "id": "uBaC_AvQfwOM"
   },
   "outputs": [],
   "source": [
    "# Importer le modèle PCA\n",
    "from sklearn.decomposition import PCA\n",
    "# Initier l'instance PCA avec 3 composantes\n",
    "pca = PCA(n_components=3)\n",
    "# Entrainer le modèle en utilisant la fonction fit sur les données normalisées\n",
    "pca.fit(Z)\n",
    "# Récupérer la matrice des 3 composantes en utilisant la fonction fit_transform sur les données normalisées\n",
    "features_pca =pca.fit_transform(Z)"
   ]
  },
  {
   "cell_type": "code",
   "execution_count": 41,
   "metadata": {
    "id": "WxI7-6XssVVx"
   },
   "outputs": [
    {
     "data": {
      "text/html": [
       "<div>\n",
       "<style scoped>\n",
       "    .dataframe tbody tr th:only-of-type {\n",
       "        vertical-align: middle;\n",
       "    }\n",
       "\n",
       "    .dataframe tbody tr th {\n",
       "        vertical-align: top;\n",
       "    }\n",
       "\n",
       "    .dataframe thead th {\n",
       "        text-align: right;\n",
       "    }\n",
       "</style>\n",
       "<table border=\"1\" class=\"dataframe\">\n",
       "  <thead>\n",
       "    <tr style=\"text-align: right;\">\n",
       "      <th></th>\n",
       "      <th>F1</th>\n",
       "      <th>F2</th>\n",
       "      <th>F3</th>\n",
       "    </tr>\n",
       "  </thead>\n",
       "  <tbody>\n",
       "    <tr>\n",
       "      <th>0</th>\n",
       "      <td>0.034037</td>\n",
       "      <td>-0.180421</td>\n",
       "      <td>0.229754</td>\n",
       "    </tr>\n",
       "    <tr>\n",
       "      <th>1</th>\n",
       "      <td>0.351057</td>\n",
       "      <td>-0.046644</td>\n",
       "      <td>0.180286</td>\n",
       "    </tr>\n",
       "    <tr>\n",
       "      <th>2</th>\n",
       "      <td>0.305375</td>\n",
       "      <td>0.055551</td>\n",
       "      <td>0.221512</td>\n",
       "    </tr>\n",
       "    <tr>\n",
       "      <th>3</th>\n",
       "      <td>-0.383677</td>\n",
       "      <td>0.161789</td>\n",
       "      <td>-0.137268</td>\n",
       "    </tr>\n",
       "    <tr>\n",
       "      <th>4</th>\n",
       "      <td>-0.318591</td>\n",
       "      <td>-0.076970</td>\n",
       "      <td>0.031286</td>\n",
       "    </tr>\n",
       "  </tbody>\n",
       "</table>\n",
       "</div>"
      ],
      "text/plain": [
       "         F1        F2        F3\n",
       "0  0.034037 -0.180421  0.229754\n",
       "1  0.351057 -0.046644  0.180286\n",
       "2  0.305375  0.055551  0.221512\n",
       "3 -0.383677  0.161789 -0.137268\n",
       "4 -0.318591 -0.076970  0.031286"
      ]
     },
     "execution_count": 41,
     "metadata": {},
     "output_type": "execute_result"
    }
   ],
   "source": [
    "# Créer une variable des noms des 3 composantes\n",
    "Columns = ['F'+str(i) for i in range(1,4)]\n",
    "# Créer le nouveau dataframe composé  des 3 composantes \n",
    "New_df = pd.DataFrame(features_pca,columns=Columns)\n",
    "# Afficher les 5 premières de New_df\n",
    "New_df.head()"
   ]
  },
  {
   "cell_type": "code",
   "execution_count": 42,
   "metadata": {
    "id": "hTw2J75rfwON"
   },
   "outputs": [
    {
     "data": {
      "text/plain": [
       "92.43"
      ]
     },
     "execution_count": 42,
     "metadata": {},
     "output_type": "execute_result"
    }
   ],
   "source": [
    "# Afficher la part des 3 composantes principales et arrondir la valeur à deux éléments après la virgule \n",
    "np.round(sum(pca.explained_variance_ratio_   )*100, 2)"
   ]
  },
  {
   "cell_type": "markdown",
   "metadata": {
    "id": "zA79ECgmfwOO"
   },
   "source": [
    "# Kmeans"
   ]
  },
  {
   "cell_type": "code",
   "execution_count": 43,
   "metadata": {
    "id": "-0-QVV3d22IR"
   },
   "outputs": [],
   "source": [
    "# Importer le modèle KMeans\n",
    "from sklearn.cluster import KMeans"
   ]
  },
  {
   "cell_type": "markdown",
   "metadata": {
    "id": "V6gdJBfdfwOP"
   },
   "source": [
    "##### La méthode elbow (coude)"
   ]
  },
  {
   "cell_type": "code",
   "execution_count": 44,
   "metadata": {
    "id": "PZvkSep3fwOP"
   },
   "outputs": [
    {
     "name": "stderr",
     "output_type": "stream",
     "text": [
      "C:\\Users\\hp\\anaconda3\\lib\\site-packages\\sklearn\\cluster\\_kmeans.py:1036: UserWarning: KMeans is known to have a memory leak on Windows with MKL, when there are less chunks than available threads. You can avoid it by setting the environment variable OMP_NUM_THREADS=2.\n",
      "  warnings.warn(\n"
     ]
    }
   ],
   "source": [
    "# Rechercher le nombre de classe k optimal \n",
    "inertie_intra = [] # liste des inerties intra \n",
    "for k in range(1, 11):\n",
    "    # Entrainer Kmeans\n",
    "    kmeans = KMeans(n_clusters=k,init = \"random\", max_iter = 500)\n",
    "    kmeans.fit(Z)\n",
    "    # Ajouter l'inertie intra dans la liste inertie_intra\n",
    "    inertie_intra.append(kmeans.inertia_)"
   ]
  },
  {
   "cell_type": "code",
   "execution_count": 45,
   "metadata": {
    "id": "wyhVQ5izfwOQ"
   },
   "outputs": [
    {
     "data": {
      "image/png": "[encoded data removed]",
      "text/plain": [
       "<Figure size 640x480 with 1 Axes>"
      ]
     },
     "metadata": {},
     "output_type": "display_data"
    }
   ],
   "source": [
    "# Methode elbow\n",
    "plt.plot(range(1, 11), inertie_intra)\n",
    "plt.xticks(range(1, 11))\n",
    "plt.xlabel(\"Nombre de classe\")\n",
    "plt.ylabel(\"inertie intra\")\n",
    "plt.show()"
   ]
  },
  {
   "cell_type": "markdown",
   "metadata": {
    "id": "VBd5EInnfwOQ"
   },
   "source": [
    "#### Appliquer Kmeans"
   ]
  },
  {
   "cell_type": "code",
   "execution_count": 46,
   "metadata": {
    "id": "2cxtGd-gfwOQ"
   },
   "outputs": [
    {
     "data": {
      "text/plain": [
       "KMeans(init='random', max_iter=500, n_clusters=10)"
      ]
     },
     "execution_count": 46,
     "metadata": {},
     "output_type": "execute_result"
    }
   ],
   "source": [
    "# Instantier le modèle  Kmeans avec 2 classes, le paramètre init égal random et maximum itérations 500 \n",
    "kmeans_model = KMeans(n_clusters=k,init = \"random\", max_iter = 500)\n",
    "# Entrainer le modèle en utilisant la fonction fit sur la matrice des données normalisées\n",
    "kmeans_model.fit(Z)"
   ]
  },
  {
   "cell_type": "markdown",
   "metadata": {
    "id": "V9y6mxRdfwOR"
   },
   "source": [
    "#### Prédiction"
   ]
  },
  {
   "cell_type": "code",
   "execution_count": 48,
   "metadata": {
    "id": "sgdeQjXXfwOR"
   },
   "outputs": [
    {
     "data": {
      "text/plain": [
       "array([7, 2, 9, 1, 6, 9, 6, 7, 7, 2, 8, 4, 6, 7, 6, 6, 2, 9, 6, 7, 6, 1,\n",
       "       4, 9, 6, 6, 4, 4, 2, 4, 6, 9, 4, 4, 2, 8, 4, 7, 2, 4, 1, 6, 7, 8,\n",
       "       7, 2, 2, 2, 7, 2, 1, 2, 4, 2, 4, 7, 2, 2, 4, 7, 7, 2, 7, 2, 1, 8,\n",
       "       8, 7, 9, 6, 1, 7, 3, 1, 7, 4, 3, 2, 4, 2, 6, 8, 7, 4, 6, 8, 0, 4,\n",
       "       3, 4, 4, 1, 2, 3, 2, 5, 8, 3, 3, 1, 7, 8, 2, 4, 4, 4, 8, 2, 0, 5,\n",
       "       4, 7, 1, 4, 4, 4, 6, 7, 4, 1, 4, 9, 4, 7, 4, 4, 1, 6, 0, 4, 1, 4,\n",
       "       4, 4, 6, 6, 0, 0, 6, 9, 6, 6, 4, 1, 4, 7, 6, 6, 1, 4, 4, 9, 4, 0,\n",
       "       4, 8, 8, 4, 2, 8, 8, 4, 4, 8, 2, 7, 2, 7, 4, 1, 8, 0, 2, 8, 5, 2,\n",
       "       4, 6, 6, 9, 7, 4, 8, 9, 5, 9, 3, 2, 2, 2, 1, 4, 6, 8, 6, 1, 1, 2,\n",
       "       6, 4, 8, 8, 6, 8, 5, 8, 4, 2, 2, 2, 4, 2, 4, 2, 8, 2, 8, 4, 8, 1,\n",
       "       4, 2, 3, 3, 4, 6, 6, 1, 7, 1, 1, 0, 4, 0, 4, 0, 4, 4, 4, 4, 1, 4,\n",
       "       4, 6, 2, 8, 4, 4, 6, 1, 9, 2, 3, 6, 9, 4, 6, 1, 4, 4, 6, 1, 4, 5,\n",
       "       8, 0, 5, 4, 7, 4, 3, 9, 0, 4, 2, 9, 4, 3, 1, 6, 9, 6, 4, 1, 4, 4,\n",
       "       6, 1, 4, 4, 7, 6, 3, 2, 4, 7, 4, 7, 7, 5, 6, 2, 8, 8, 8, 0, 2, 4,\n",
       "       6, 0, 3, 4, 8, 1, 6, 0, 1, 5, 6, 2, 0, 6, 4, 7, 4, 3, 1, 5, 1, 3,\n",
       "       6, 2, 4, 8, 1, 6, 4, 1, 3, 3, 8, 8, 2, 8, 1, 8, 8, 6, 7, 2, 1, 8,\n",
       "       5, 8, 1, 5, 4, 8, 0, 0, 4, 4, 7, 7, 6, 2, 4, 1, 4, 4, 4, 1, 9, 6,\n",
       "       6, 4, 2, 4, 9, 5, 4, 1, 6, 3, 0, 4, 0, 4, 4, 4, 3, 9, 0, 1, 4, 4,\n",
       "       0, 1, 1, 4, 1, 1, 4, 6, 4, 4, 1, 2, 7, 7, 7, 9, 8, 3, 3, 7, 2, 2,\n",
       "       8, 6, 8, 6, 4, 6, 6, 3, 7, 1, 0, 6, 5, 3, 4, 9, 6, 1, 4, 2, 4, 7])"
      ]
     },
     "execution_count": 48,
     "metadata": {},
     "output_type": "execute_result"
    }
   ],
   "source": [
    "# Prediction la partition des données en utilisant la fonction fit_predict sur les données normalisées\n",
    "Pred = kmeans_model.fit_predict(Z)\n",
    "# Afficher la partition des données\n",
    "Pred"
   ]
  },
  {
   "cell_type": "markdown",
   "metadata": {
    "id": "Gf8l7mWEfwOR"
   },
   "source": [
    "#### Le nombre d'individus dans classe "
   ]
  },
  {
   "cell_type": "code",
   "execution_count": 51,
   "metadata": {
    "id": "Dz0usjp7fwOS"
   },
   "outputs": [
    {
     "data": {
      "text/plain": [
       "4    109\n",
       "6     59\n",
       "2     54\n",
       "1     50\n",
       "8     44\n",
       "7     41\n",
       "3     24\n",
       "0     23\n",
       "9     22\n",
       "5     14\n",
       "dtype: int64"
      ]
     },
     "execution_count": 51,
     "metadata": {},
     "output_type": "execute_result"
    }
   ],
   "source": [
    "# Afficher le nombre d'individus dans chaque classe\n",
    "pd.Series(Pred).value_counts()"
   ]
  },
  {
   "cell_type": "markdown",
   "metadata": {
    "id": "wXdlRlCRfwOS"
   },
   "source": [
    "#### Visualiser les classes prédictes par Kmeans"
   ]
  },
  {
   "cell_type": "code",
   "execution_count": 58,
   "metadata": {
    "id": "Q4mI28mxfwOT"
   },
   "outputs": [
    {
     "data": {
      "text/plain": [
       "Text(0, 0.5, 'F2')"
      ]
     },
     "execution_count": 58,
     "metadata": {},
     "output_type": "execute_result"
    },
    {
     "data": {
      "image/png": "[encoded data removed]",
      "text/plain": [
       "<Figure size 1000x700 with 1 Axes>"
      ]
     },
     "metadata": {},
     "output_type": "display_data"
    }
   ],
   "source": [
    "# Visualiser les classes suivant les deux premiers composantes ( F1 et F2 ) du dataframe New_df\n",
    "plt.figure(figsize=(10, 7))  \n",
    "plt.scatter( New_df .F1[Pred==0] , New_df.F2[Pred==0] , c='r', label = '0') \n",
    "plt.scatter( New_df .F1[Pred==1], New_df.F2[Pred==1] , c='b', label = '1')\n",
    "plt.legend()\n",
    "plt.xlabel('F1')\n",
    "plt.ylabel('F2')"
   ]
  },
  {
   "cell_type": "markdown",
   "metadata": {
    "id": "P5TdKp9qfwOh"
   },
   "source": [
    "Indice de silhouette value de la partition du Kmeans"
   ]
  },
  {
   "cell_type": "code",
   "execution_count": 59,
   "metadata": {
    "id": "f2XrG-aufwOi"
   },
   "outputs": [
    {
     "data": {
      "text/plain": [
       "0.29931345095364736"
      ]
     },
     "execution_count": 59,
     "metadata": {},
     "output_type": "execute_result"
    }
   ],
   "source": [
    "from sklearn.metrics import silhouette_score\n",
    "# Afficher l'indice de Silhouette value de la partition retournée par Kmeans\n",
    "silhouette_score(Z, Pred)"
   ]
  },
  {
   "cell_type": "code",
   "execution_count": null,
   "metadata": {},
   "outputs": [],
   "source": []
  }
 ],
 "metadata": {
  "colab": {
   "provenance": []
  },
  "kernelspec": {
   "display_name": "Python 3 (ipykernel)",
   "language": "python",
   "name": "python3"
  },
  "language_info": {
   "codemirror_mode": {
    "name": "ipython",
    "version": 3
   },
   "file_extension": ".py",
   "mimetype": "text/x-python",
   "name": "python",
   "nbconvert_exporter": "python",
   "pygments_lexer": "ipython3",
   "version": "3.9.13"
  },
  "vscode": {
   "interpreter": {
    "hash": "3a6c00fc5620953538c32d112035affe8cfbc0c86b343ca3bafcb4118ace2e26"
   }
  }
 },
 "nbformat": 4,
 "nbformat_minor": 1
}
