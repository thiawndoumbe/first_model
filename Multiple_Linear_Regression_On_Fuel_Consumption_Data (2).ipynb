{
 "cells": [
  {
   "cell_type": "markdown",
   "metadata": {
    "button": false,
    "id": "O5n4A6Xfv7zt",
    "new_sheet": false,
    "run_control": {
     "read_only": false
    }
   },
   "source": [
    "###  Importer les packages qu'on doit utiliser"
   ]
  },
  {
   "cell_type": "code",
   "execution_count": null,
   "metadata": {
    "colab": {
     "base_uri": "https://localhost:8080/"
    },
    "executionInfo": {
     "elapsed": 29464,
     "status": "ok",
     "timestamp": 1681384638147,
     "user": {
      "displayName": "Ndoumbe Thiaw",
      "userId": "00865048007601187203"
     },
     "user_tz": 0
    },
    "id": "_0BNLgbaXX3t",
    "outputId": "46ed261e-6c9a-4fd9-9ea8-8b2023fe71be"
   },
   "outputs": [
    {
     "name": "stdout",
     "output_type": "stream",
     "text": [
      "Mounted at /content/drive\n"
     ]
    }
   ],
   "source": [
    "#connection de colab avec drive\n",
    "from google.colab import drive\n",
    "drive.mount(\"/content/drive\")"
   ]
  },
  {
   "cell_type": "code",
   "execution_count": null,
   "metadata": {
    "button": false,
    "collapsed": true,
    "id": "UP30Fx91v7zu",
    "new_sheet": false,
    "run_control": {
     "read_only": false
    }
   },
   "outputs": [],
   "source": [
    "import matplotlib.pyplot as plt\n",
    "import pandas as pd\n",
    "import numpy as np"
   ]
  },
  {
   "cell_type": "markdown",
   "metadata": {
    "button": false,
    "id": "aENQolAmv7z0",
    "new_sheet": false,
    "run_control": {
     "read_only": false
    }
   },
   "source": [
    "## Importer et lire les données"
   ]
  },
  {
   "cell_type": "code",
   "execution_count": null,
   "metadata": {
    "button": false,
    "collapsed": true,
    "id": "zxF95-oKv7z1",
    "new_sheet": false,
    "run_control": {
     "read_only": false
    }
   },
   "outputs": [],
   "source": [
    "# importer les données\n",
    "df=pd.read_csv(\"/content/drive/MyDrive/Simple_regression_TP/Multiple_Linear_Regression_TP/Fuel_Consumption.csv\")"
   ]
  },
  {
   "cell_type": "code",
   "execution_count": null,
   "metadata": {
    "colab": {
     "base_uri": "https://localhost:8080/",
     "height": 424
    },
    "executionInfo": {
     "elapsed": 267,
     "status": "ok",
     "timestamp": 1681386261345,
     "user": {
      "displayName": "Ndoumbe Thiaw",
      "userId": "00865048007601187203"
     },
     "user_tz": 0
    },
    "id": "Q8PbqYHg1qb6",
    "outputId": "3c9b5ec4-6577-4184-a4cd-b4f721216d1c"
   },
   "outputs": [
    {
     "data": {
      "text/html": [
       "\n",
       "  <div id=\"df-ebf09112-df1b-4081-ac6b-ee20c1d689f1\">\n",
       "    <div class=\"colab-df-container\">\n",
       "      <div>\n",
       "<style scoped>\n",
       "    .dataframe tbody tr th:only-of-type {\n",
       "        vertical-align: middle;\n",
       "    }\n",
       "\n",
       "    .dataframe tbody tr th {\n",
       "        vertical-align: top;\n",
       "    }\n",
       "\n",
       "    .dataframe thead th {\n",
       "        text-align: right;\n",
       "    }\n",
       "</style>\n",
       "<table border=\"1\" class=\"dataframe\">\n",
       "  <thead>\n",
       "    <tr style=\"text-align: right;\">\n",
       "      <th></th>\n",
       "      <th>ENGINESIZE</th>\n",
       "      <th>CYLINDERS</th>\n",
       "      <th>FUELCONSUMPTION_COMB</th>\n",
       "      <th>CO2EMISSIONS</th>\n",
       "    </tr>\n",
       "  </thead>\n",
       "  <tbody>\n",
       "    <tr>\n",
       "      <th>0</th>\n",
       "      <td>2.0</td>\n",
       "      <td>4</td>\n",
       "      <td>8.5</td>\n",
       "      <td>196</td>\n",
       "    </tr>\n",
       "    <tr>\n",
       "      <th>1</th>\n",
       "      <td>2.4</td>\n",
       "      <td>4</td>\n",
       "      <td>9.6</td>\n",
       "      <td>221</td>\n",
       "    </tr>\n",
       "    <tr>\n",
       "      <th>2</th>\n",
       "      <td>1.5</td>\n",
       "      <td>4</td>\n",
       "      <td>5.9</td>\n",
       "      <td>136</td>\n",
       "    </tr>\n",
       "    <tr>\n",
       "      <th>3</th>\n",
       "      <td>3.5</td>\n",
       "      <td>6</td>\n",
       "      <td>11.1</td>\n",
       "      <td>255</td>\n",
       "    </tr>\n",
       "    <tr>\n",
       "      <th>4</th>\n",
       "      <td>3.5</td>\n",
       "      <td>6</td>\n",
       "      <td>10.6</td>\n",
       "      <td>244</td>\n",
       "    </tr>\n",
       "    <tr>\n",
       "      <th>...</th>\n",
       "      <td>...</td>\n",
       "      <td>...</td>\n",
       "      <td>...</td>\n",
       "      <td>...</td>\n",
       "    </tr>\n",
       "    <tr>\n",
       "      <th>1062</th>\n",
       "      <td>3.0</td>\n",
       "      <td>6</td>\n",
       "      <td>11.8</td>\n",
       "      <td>271</td>\n",
       "    </tr>\n",
       "    <tr>\n",
       "      <th>1063</th>\n",
       "      <td>3.2</td>\n",
       "      <td>6</td>\n",
       "      <td>11.5</td>\n",
       "      <td>264</td>\n",
       "    </tr>\n",
       "    <tr>\n",
       "      <th>1064</th>\n",
       "      <td>3.0</td>\n",
       "      <td>6</td>\n",
       "      <td>11.8</td>\n",
       "      <td>271</td>\n",
       "    </tr>\n",
       "    <tr>\n",
       "      <th>1065</th>\n",
       "      <td>3.2</td>\n",
       "      <td>6</td>\n",
       "      <td>11.3</td>\n",
       "      <td>260</td>\n",
       "    </tr>\n",
       "    <tr>\n",
       "      <th>1066</th>\n",
       "      <td>3.2</td>\n",
       "      <td>6</td>\n",
       "      <td>12.8</td>\n",
       "      <td>294</td>\n",
       "    </tr>\n",
       "  </tbody>\n",
       "</table>\n",
       "<p>1067 rows × 4 columns</p>\n",
       "</div>\n",
       "      <button class=\"colab-df-convert\" onclick=\"convertToInteractive('df-ebf09112-df1b-4081-ac6b-ee20c1d689f1')\"\n",
       "              title=\"Convert this dataframe to an interactive table.\"\n",
       "              style=\"display:none;\">\n",
       "        \n",
       "  <svg xmlns=\"http://www.w3.org/2000/svg\" height=\"24px\"viewBox=\"0 0 24 24\"\n",
       "       width=\"24px\">\n",
       "    <path d=\"M0 0h24v24H0V0z\" fill=\"none\"/>\n",
       "    <path d=\"M18.56 5.44l.94 2.06.94-2.06 2.06-.94-2.06-.94-.94-2.06-.94 2.06-2.06.94zm-11 1L8.5 8.5l.94-2.06 2.06-.94-2.06-.94L8.5 2.5l-.94 2.06-2.06.94zm10 10l.94 2.06.94-2.06 2.06-.94-2.06-.94-.94-2.06-.94 2.06-2.06.94z\"/><path d=\"M17.41 7.96l-1.37-1.37c-.4-.4-.92-.59-1.43-.59-.52 0-1.04.2-1.43.59L10.3 9.45l-7.72 7.72c-.78.78-.78 2.05 0 2.83L4 21.41c.39.39.9.59 1.41.59.51 0 1.02-.2 1.41-.59l7.78-7.78 2.81-2.81c.8-.78.8-2.07 0-2.86zM5.41 20L4 18.59l7.72-7.72 1.47 1.35L5.41 20z\"/>\n",
       "  </svg>\n",
       "      </button>\n",
       "      \n",
       "  <style>\n",
       "    .colab-df-container {\n",
       "      display:flex;\n",
       "      flex-wrap:wrap;\n",
       "      gap: 12px;\n",
       "    }\n",
       "\n",
       "    .colab-df-convert {\n",
       "      background-color: #E8F0FE;\n",
       "      border: none;\n",
       "      border-radius: 50%;\n",
       "      cursor: pointer;\n",
       "      display: none;\n",
       "      fill: #1967D2;\n",
       "      height: 32px;\n",
       "      padding: 0 0 0 0;\n",
       "      width: 32px;\n",
       "    }\n",
       "\n",
       "    .colab-df-convert:hover {\n",
       "      background-color: #E2EBFA;\n",
       "      box-shadow: 0px 1px 2px rgba(60, 64, 67, 0.3), 0px 1px 3px 1px rgba(60, 64, 67, 0.15);\n",
       "      fill: #174EA6;\n",
       "    }\n",
       "\n",
       "    [theme=dark] .colab-df-convert {\n",
       "      background-color: #3B4455;\n",
       "      fill: #D2E3FC;\n",
       "    }\n",
       "\n",
       "    [theme=dark] .colab-df-convert:hover {\n",
       "      background-color: #434B5C;\n",
       "      box-shadow: 0px 1px 3px 1px rgba(0, 0, 0, 0.15);\n",
       "      filter: drop-shadow(0px 1px 2px rgba(0, 0, 0, 0.3));\n",
       "      fill: #FFFFFF;\n",
       "    }\n",
       "  </style>\n",
       "\n",
       "      <script>\n",
       "        const buttonEl =\n",
       "          document.querySelector('#df-ebf09112-df1b-4081-ac6b-ee20c1d689f1 button.colab-df-convert');\n",
       "        buttonEl.style.display =\n",
       "          google.colab.kernel.accessAllowed ? 'block' : 'none';\n",
       "\n",
       "        async function convertToInteractive(key) {\n",
       "          const element = document.querySelector('#df-ebf09112-df1b-4081-ac6b-ee20c1d689f1');\n",
       "          const dataTable =\n",
       "            await google.colab.kernel.invokeFunction('convertToInteractive',\n",
       "                                                     [key], {});\n",
       "          if (!dataTable) return;\n",
       "\n",
       "          const docLinkHtml = 'Like what you see? Visit the ' +\n",
       "            '<a target=\"_blank\" href=https://colab.research.google.com/notebooks/data_table.ipynb>data table notebook</a>'\n",
       "            + ' to learn more about interactive tables.';\n",
       "          element.innerHTML = '';\n",
       "          dataTable['output_type'] = 'display_data';\n",
       "          await google.colab.output.renderOutput(dataTable, element);\n",
       "          const docLink = document.createElement('div');\n",
       "          docLink.innerHTML = docLinkHtml;\n",
       "          element.appendChild(docLink);\n",
       "        }\n",
       "      </script>\n",
       "    </div>\n",
       "  </div>\n",
       "  "
      ],
      "text/plain": [
       "      ENGINESIZE  CYLINDERS  FUELCONSUMPTION_COMB  CO2EMISSIONS\n",
       "0            2.0          4                   8.5           196\n",
       "1            2.4          4                   9.6           221\n",
       "2            1.5          4                   5.9           136\n",
       "3            3.5          6                  11.1           255\n",
       "4            3.5          6                  10.6           244\n",
       "...          ...        ...                   ...           ...\n",
       "1062         3.0          6                  11.8           271\n",
       "1063         3.2          6                  11.5           264\n",
       "1064         3.0          6                  11.8           271\n",
       "1065         3.2          6                  11.3           260\n",
       "1066         3.2          6                  12.8           294\n",
       "\n",
       "[1067 rows x 4 columns]"
      ]
     },
     "execution_count": 26,
     "metadata": {},
     "output_type": "execute_result"
    }
   ],
   "source": [
    "# Afficher les données \n",
    "df"
   ]
  },
  {
   "cell_type": "code",
   "execution_count": null,
   "metadata": {
    "colab": {
     "base_uri": "https://localhost:8080/"
    },
    "executionInfo": {
     "elapsed": 264,
     "status": "ok",
     "timestamp": 1681386264601,
     "user": {
      "displayName": "Ndoumbe Thiaw",
      "userId": "00865048007601187203"
     },
     "user_tz": 0
    },
    "id": "gn8D7SEB1you",
    "outputId": "46037aaa-d3b0-4caa-b4ef-a7bef9a8188a"
   },
   "outputs": [
    {
     "data": {
      "text/plain": [
       "(1067, 4)"
      ]
     },
     "execution_count": 27,
     "metadata": {},
     "output_type": "execute_result"
    }
   ],
   "source": [
    "# Dimension des données \n",
    "df.shape"
   ]
  },
  {
   "cell_type": "markdown",
   "metadata": {
    "button": false,
    "id": "4LZRCJ1lv7z2",
    "new_sheet": false,
    "run_control": {
     "read_only": false
    }
   },
   "source": [
    "### Exploration des données"
   ]
  },
  {
   "cell_type": "code",
   "execution_count": null,
   "metadata": {
    "button": false,
    "colab": {
     "base_uri": "https://localhost:8080/"
    },
    "collapsed": true,
    "executionInfo": {
     "elapsed": 334,
     "status": "ok",
     "timestamp": 1681384662764,
     "user": {
      "displayName": "Ndoumbe Thiaw",
      "userId": "00865048007601187203"
     },
     "user_tz": 0
    },
    "id": "kZspiFivv7z3",
    "new_sheet": false,
    "outputId": "744bc63e-ab8f-4749-b2c8-058af0cae2fb",
    "run_control": {
     "read_only": false
    }
   },
   "outputs": [
    {
     "data": {
      "text/plain": [
       "<bound method NDFrame.describe of       ENGINESIZE  CYLINDERS  FUELCONSUMPTION_COMB  CO2EMISSIONS\n",
       "0            2.0          4                   8.5           196\n",
       "1            2.4          4                   9.6           221\n",
       "2            1.5          4                   5.9           136\n",
       "3            3.5          6                  11.1           255\n",
       "4            3.5          6                  10.6           244\n",
       "...          ...        ...                   ...           ...\n",
       "1062         3.0          6                  11.8           271\n",
       "1063         3.2          6                  11.5           264\n",
       "1064         3.0          6                  11.8           271\n",
       "1065         3.2          6                  11.3           260\n",
       "1066         3.2          6                  12.8           294\n",
       "\n",
       "[1067 rows x 4 columns]>"
      ]
     },
     "execution_count": 6,
     "metadata": {},
     "output_type": "execute_result"
    }
   ],
   "source": [
    "# Décrire les données\n",
    "df.describe"
   ]
  },
  {
   "cell_type": "code",
   "execution_count": null,
   "metadata": {
    "button": false,
    "colab": {
     "base_uri": "https://localhost:8080/",
     "height": 469
    },
    "collapsed": true,
    "executionInfo": {
     "elapsed": 1480,
     "status": "ok",
     "timestamp": 1681386269159,
     "user": {
      "displayName": "Ndoumbe Thiaw",
      "userId": "00865048007601187203"
     },
     "user_tz": 0
    },
    "id": "s1S3ZkJdv7z5",
    "new_sheet": false,
    "outputId": "e7bd7710-c9a8-49f5-ca48-b103b18ad259",
    "run_control": {
     "read_only": false
    }
   },
   "outputs": [
    {
     "data": {
      "text/plain": [
       "<function matplotlib.pyplot.show(close=None, block=None)>"
      ]
     },
     "execution_count": 28,
     "metadata": {},
     "output_type": "execute_result"
    },
    {
     "data": {
      "image/png": "[encoded data removed]",
      "text/plain": [
       "<Figure size 640x480 with 4 Axes>"
      ]
     },
     "metadata": {},
     "output_type": "display_data"
    }
   ],
   "source": [
    "# Visualiser les histogrammes des différentes variables\n",
    "df.hist()\n",
    "plt.show\n"
   ]
  },
  {
   "cell_type": "markdown",
   "metadata": {
    "id": "rIrr252Hv7z5"
   },
   "source": [
    "Maintenant éssayer de visualiser ces variables en en fonction de la variable Emission, pour voir la linéarité entre elles."
   ]
  },
  {
   "cell_type": "code",
   "execution_count": null,
   "metadata": {
    "button": false,
    "colab": {
     "base_uri": "https://localhost:8080/",
     "height": 449
    },
    "collapsed": true,
    "executionInfo": {
     "elapsed": 687,
     "status": "ok",
     "timestamp": 1681385023404,
     "user": {
      "displayName": "Ndoumbe Thiaw",
      "userId": "00865048007601187203"
     },
     "user_tz": 0
    },
    "id": "qcVPxYh_v7z6",
    "new_sheet": false,
    "outputId": "42505d8f-12be-484d-bed2-dfab10ed2dc8",
    "run_control": {
     "read_only": false
    }
   },
   "outputs": [
    {
     "data": {
      "image/png": "[encoded data removed]",
      "text/plain": [
       "<Figure size 640x480 with 1 Axes>"
      ]
     },
     "metadata": {},
     "output_type": "display_data"
    }
   ],
   "source": [
    "# scatter plot de FUELCONSUMPTION_COMB en fonction de CO2EMISSIONS\n",
    "plt.scatter(df.FUELCONSUMPTION_COMB, df.CO2EMISSIONS,  color='blue')\n",
    "plt.xlabel(\"FUELCONSUMPTION_COMB\")\n",
    "plt.ylabel(\"Emission\")\n",
    "plt.show()"
   ]
  },
  {
   "cell_type": "code",
   "execution_count": null,
   "metadata": {
    "button": false,
    "colab": {
     "base_uri": "https://localhost:8080/",
     "height": 449
    },
    "collapsed": true,
    "executionInfo": {
     "elapsed": 641,
     "status": "ok",
     "timestamp": 1681385058091,
     "user": {
      "displayName": "Ndoumbe Thiaw",
      "userId": "00865048007601187203"
     },
     "user_tz": 0
    },
    "id": "mBu3JmBsv7z7",
    "new_sheet": false,
    "outputId": "f3b9409c-a159-45bf-91f4-66c012f65eb1",
    "run_control": {
     "read_only": false
    },
    "scrolled": true
   },
   "outputs": [
    {
     "data": {
      "image/png": "[encoded data removed]",
      "text/plain": [
       "<Figure size 640x480 with 1 Axes>"
      ]
     },
     "metadata": {},
     "output_type": "display_data"
    }
   ],
   "source": [
    "# scatter plot de ENGINESIZE en fonction de CO2EMISSIONS\n",
    "plt.scatter(df.ENGINESIZE, df.CO2EMISSIONS,  color='blue')\n",
    "plt.xlabel(\"Engine size\")\n",
    "plt.ylabel(\"Emission\")\n",
    "plt.show()"
   ]
  },
  {
   "cell_type": "code",
   "execution_count": null,
   "metadata": {
    "button": false,
    "colab": {
     "base_uri": "https://localhost:8080/",
     "height": 449
    },
    "collapsed": true,
    "executionInfo": {
     "elapsed": 741,
     "status": "ok",
     "timestamp": 1681385067682,
     "user": {
      "displayName": "Ndoumbe Thiaw",
      "userId": "00865048007601187203"
     },
     "user_tz": 0
    },
    "id": "QAM_XvB2v7z9",
    "new_sheet": false,
    "outputId": "0b27ad79-8909-4efe-c81a-ad713ebe6044",
    "run_control": {
     "read_only": false
    }
   },
   "outputs": [
    {
     "data": {
      "image/png": "[encoded data removed]",
      "text/plain": [
       "<Figure size 640x480 with 1 Axes>"
      ]
     },
     "metadata": {},
     "output_type": "display_data"
    }
   ],
   "source": [
    "# scatter plot de CYLINDERS en fonction de CO2EMISSIONS\n",
    "plt.scatter(df.CYLINDERS, df.CO2EMISSIONS,  color='blue')\n",
    "plt.xlabel(\"Cylinders\")\n",
    "plt.ylabel(\"Emission\")\n",
    "plt.show()"
   ]
  },
  {
   "cell_type": "code",
   "execution_count": null,
   "metadata": {
    "colab": {
     "base_uri": "https://localhost:8080/",
     "height": 175
    },
    "executionInfo": {
     "elapsed": 357,
     "status": "ok",
     "timestamp": 1681385137095,
     "user": {
      "displayName": "Ndoumbe Thiaw",
      "userId": "00865048007601187203"
     },
     "user_tz": 0
    },
    "id": "ZUwCKGQ5DlvN",
    "outputId": "8e508984-24a6-4c67-cd46-a707742e26df"
   },
   "outputs": [
    {
     "data": {
      "text/html": [
       "\n",
       "  <div id=\"df-dd3dcfac-ae4b-4da9-b06d-ab92172cf87f\">\n",
       "    <div class=\"colab-df-container\">\n",
       "      <div>\n",
       "<style scoped>\n",
       "    .dataframe tbody tr th:only-of-type {\n",
       "        vertical-align: middle;\n",
       "    }\n",
       "\n",
       "    .dataframe tbody tr th {\n",
       "        vertical-align: top;\n",
       "    }\n",
       "\n",
       "    .dataframe thead th {\n",
       "        text-align: right;\n",
       "    }\n",
       "</style>\n",
       "<table border=\"1\" class=\"dataframe\">\n",
       "  <thead>\n",
       "    <tr style=\"text-align: right;\">\n",
       "      <th></th>\n",
       "      <th>ENGINESIZE</th>\n",
       "      <th>CYLINDERS</th>\n",
       "      <th>FUELCONSUMPTION_COMB</th>\n",
       "      <th>CO2EMISSIONS</th>\n",
       "    </tr>\n",
       "  </thead>\n",
       "  <tbody>\n",
       "    <tr>\n",
       "      <th>ENGINESIZE</th>\n",
       "      <td>1.000000</td>\n",
       "      <td>0.934011</td>\n",
       "      <td>0.819482</td>\n",
       "      <td>0.874154</td>\n",
       "    </tr>\n",
       "    <tr>\n",
       "      <th>CYLINDERS</th>\n",
       "      <td>0.934011</td>\n",
       "      <td>1.000000</td>\n",
       "      <td>0.776788</td>\n",
       "      <td>0.849685</td>\n",
       "    </tr>\n",
       "    <tr>\n",
       "      <th>FUELCONSUMPTION_COMB</th>\n",
       "      <td>0.819482</td>\n",
       "      <td>0.776788</td>\n",
       "      <td>1.000000</td>\n",
       "      <td>0.892129</td>\n",
       "    </tr>\n",
       "    <tr>\n",
       "      <th>CO2EMISSIONS</th>\n",
       "      <td>0.874154</td>\n",
       "      <td>0.849685</td>\n",
       "      <td>0.892129</td>\n",
       "      <td>1.000000</td>\n",
       "    </tr>\n",
       "  </tbody>\n",
       "</table>\n",
       "</div>\n",
       "      <button class=\"colab-df-convert\" onclick=\"convertToInteractive('df-dd3dcfac-ae4b-4da9-b06d-ab92172cf87f')\"\n",
       "              title=\"Convert this dataframe to an interactive table.\"\n",
       "              style=\"display:none;\">\n",
       "        \n",
       "  <svg xmlns=\"http://www.w3.org/2000/svg\" height=\"24px\"viewBox=\"0 0 24 24\"\n",
       "       width=\"24px\">\n",
       "    <path d=\"M0 0h24v24H0V0z\" fill=\"none\"/>\n",
       "    <path d=\"M18.56 5.44l.94 2.06.94-2.06 2.06-.94-2.06-.94-.94-2.06-.94 2.06-2.06.94zm-11 1L8.5 8.5l.94-2.06 2.06-.94-2.06-.94L8.5 2.5l-.94 2.06-2.06.94zm10 10l.94 2.06.94-2.06 2.06-.94-2.06-.94-.94-2.06-.94 2.06-2.06.94z\"/><path d=\"M17.41 7.96l-1.37-1.37c-.4-.4-.92-.59-1.43-.59-.52 0-1.04.2-1.43.59L10.3 9.45l-7.72 7.72c-.78.78-.78 2.05 0 2.83L4 21.41c.39.39.9.59 1.41.59.51 0 1.02-.2 1.41-.59l7.78-7.78 2.81-2.81c.8-.78.8-2.07 0-2.86zM5.41 20L4 18.59l7.72-7.72 1.47 1.35L5.41 20z\"/>\n",
       "  </svg>\n",
       "      </button>\n",
       "      \n",
       "  <style>\n",
       "    .colab-df-container {\n",
       "      display:flex;\n",
       "      flex-wrap:wrap;\n",
       "      gap: 12px;\n",
       "    }\n",
       "\n",
       "    .colab-df-convert {\n",
       "      background-color: #E8F0FE;\n",
       "      border: none;\n",
       "      border-radius: 50%;\n",
       "      cursor: pointer;\n",
       "      display: none;\n",
       "      fill: #1967D2;\n",
       "      height: 32px;\n",
       "      padding: 0 0 0 0;\n",
       "      width: 32px;\n",
       "    }\n",
       "\n",
       "    .colab-df-convert:hover {\n",
       "      background-color: #E2EBFA;\n",
       "      box-shadow: 0px 1px 2px rgba(60, 64, 67, 0.3), 0px 1px 3px 1px rgba(60, 64, 67, 0.15);\n",
       "      fill: #174EA6;\n",
       "    }\n",
       "\n",
       "    [theme=dark] .colab-df-convert {\n",
       "      background-color: #3B4455;\n",
       "      fill: #D2E3FC;\n",
       "    }\n",
       "\n",
       "    [theme=dark] .colab-df-convert:hover {\n",
       "      background-color: #434B5C;\n",
       "      box-shadow: 0px 1px 3px 1px rgba(0, 0, 0, 0.15);\n",
       "      filter: drop-shadow(0px 1px 2px rgba(0, 0, 0, 0.3));\n",
       "      fill: #FFFFFF;\n",
       "    }\n",
       "  </style>\n",
       "\n",
       "      <script>\n",
       "        const buttonEl =\n",
       "          document.querySelector('#df-dd3dcfac-ae4b-4da9-b06d-ab92172cf87f button.colab-df-convert');\n",
       "        buttonEl.style.display =\n",
       "          google.colab.kernel.accessAllowed ? 'block' : 'none';\n",
       "\n",
       "        async function convertToInteractive(key) {\n",
       "          const element = document.querySelector('#df-dd3dcfac-ae4b-4da9-b06d-ab92172cf87f');\n",
       "          const dataTable =\n",
       "            await google.colab.kernel.invokeFunction('convertToInteractive',\n",
       "                                                     [key], {});\n",
       "          if (!dataTable) return;\n",
       "\n",
       "          const docLinkHtml = 'Like what you see? Visit the ' +\n",
       "            '<a target=\"_blank\" href=https://colab.research.google.com/notebooks/data_table.ipynb>data table notebook</a>'\n",
       "            + ' to learn more about interactive tables.';\n",
       "          element.innerHTML = '';\n",
       "          dataTable['output_type'] = 'display_data';\n",
       "          await google.colab.output.renderOutput(dataTable, element);\n",
       "          const docLink = document.createElement('div');\n",
       "          docLink.innerHTML = docLinkHtml;\n",
       "          element.appendChild(docLink);\n",
       "        }\n",
       "      </script>\n",
       "    </div>\n",
       "  </div>\n",
       "  "
      ],
      "text/plain": [
       "                      ENGINESIZE  CYLINDERS  FUELCONSUMPTION_COMB  \\\n",
       "ENGINESIZE              1.000000   0.934011              0.819482   \n",
       "CYLINDERS               0.934011   1.000000              0.776788   \n",
       "FUELCONSUMPTION_COMB    0.819482   0.776788              1.000000   \n",
       "CO2EMISSIONS            0.874154   0.849685              0.892129   \n",
       "\n",
       "                      CO2EMISSIONS  \n",
       "ENGINESIZE                0.874154  \n",
       "CYLINDERS                 0.849685  \n",
       "FUELCONSUMPTION_COMB      0.892129  \n",
       "CO2EMISSIONS              1.000000  "
      ]
     },
     "execution_count": 13,
     "metadata": {},
     "output_type": "execute_result"
    }
   ],
   "source": [
    "# Matrice de corrélation des variables\n",
    "df.corr()"
   ]
  },
  {
   "cell_type": "code",
   "execution_count": null,
   "metadata": {
    "colab": {
     "base_uri": "https://localhost:8080/",
     "height": 626
    },
    "executionInfo": {
     "elapsed": 2399,
     "status": "ok",
     "timestamp": 1681385278150,
     "user": {
      "displayName": "Ndoumbe Thiaw",
      "userId": "00865048007601187203"
     },
     "user_tz": 0
    },
    "id": "1QmoVLhDEOao",
    "outputId": "a8760229-a6e4-4111-c878-14c6fd0cbce1"
   },
   "outputs": [
    {
     "data": {
      "text/plain": [
       "<Axes: >"
      ]
     },
     "execution_count": 14,
     "metadata": {},
     "output_type": "execute_result"
    },
    {
     "data": {
      "image/png": "[encoded data removed]",
      "text/plain": [
       "<Figure size 640x480 with 2 Axes>"
      ]
     },
     "metadata": {},
     "output_type": "display_data"
    }
   ],
   "source": [
    "import seaborn as sns \n",
    "# Heatmap de la matrice de corrélation un terme de graphe qui permet d'afficher la correlation des variable\n",
    "sns.heatmap(df.corr())\n"
   ]
  },
  {
   "cell_type": "markdown",
   "metadata": {
    "button": false,
    "id": "txfrmijcv70B",
    "new_sheet": false,
    "run_control": {
     "read_only": false
    }
   },
   "source": [
    "### Modèle de  Régréssion Multiple"
   ]
  },
  {
   "cell_type": "code",
   "execution_count": null,
   "metadata": {
    "colab": {
     "base_uri": "https://localhost:8080/"
    },
    "executionInfo": {
     "elapsed": 527,
     "status": "ok",
     "timestamp": 1681385917370,
     "user": {
      "displayName": "Ndoumbe Thiaw",
      "userId": "00865048007601187203"
     },
     "user_tz": 0
    },
    "id": "G0Fdt7uTZ9cY",
    "outputId": "2b2a9788-62c0-4cf1-908d-93508c9b9abe"
   },
   "outputs": [
    {
     "data": {
      "text/plain": [
       "(ENGINESIZE                1.0\n",
       " CYLINDERS                 3.0\n",
       " FUELCONSUMPTION_COMB      4.7\n",
       " CO2EMISSIONS            108.0\n",
       " dtype: float64,\n",
       " ENGINESIZE                8.4\n",
       " CYLINDERS                12.0\n",
       " FUELCONSUMPTION_COMB     25.8\n",
       " CO2EMISSIONS            488.0\n",
       " dtype: float64)"
      ]
     },
     "execution_count": 19,
     "metadata": {},
     "output_type": "execute_result"
    }
   ],
   "source": [
    "df.min(),df.max() #pour voir la difference entre les varibles preducteur pour voir si on peut nomaliser ou pas"
   ]
  },
  {
   "cell_type": "code",
   "execution_count": null,
   "metadata": {
    "id": "fZdykuAcHU3u"
   },
   "outputs": [],
   "source": [
    "# Fractionner les données \n",
    "X = df.iloc[:,:3].values\n",
    "y = df[\"CO2EMISSIONS\"].values\n"
   ]
  },
  {
   "cell_type": "code",
   "execution_count": null,
   "metadata": {
    "colab": {
     "base_uri": "https://localhost:8080/"
    },
    "executionInfo": {
     "elapsed": 290,
     "status": "ok",
     "timestamp": 1681386450382,
     "user": {
      "displayName": "Ndoumbe Thiaw",
      "userId": "00865048007601187203"
     },
     "user_tz": 0
    },
    "id": "MEhUmoxUb8jg",
    "outputId": "853e77fc-cc62-42ad-caed-80fd3efbd78d"
   },
   "outputs": [
    {
     "name": "stdout",
     "output_type": "stream",
     "text": [
      "[196 221 136 ... 271 260 294]\n"
     ]
    }
   ],
   "source": [
    "print(y)"
   ]
  },
  {
   "cell_type": "markdown",
   "metadata": {
    "id": "PFjGCcQ_S5Zq"
   },
   "source": [
    "### Normaliser les données"
   ]
  },
  {
   "cell_type": "code",
   "execution_count": null,
   "metadata": {
    "id": "duN0T5HbS5kP"
   },
   "outputs": [],
   "source": [
    "from sklearn.preprocessing import StandardScaler\n",
    "# Objet StandardScaler\n",
    "standard = StandardScaler()\n",
    "# Normaliser X \n",
    "X = standard.fit_transform(X)\n"
   ]
  },
  {
   "cell_type": "code",
   "execution_count": null,
   "metadata": {
    "id": "wtujel5xOOsE"
   },
   "outputs": [],
   "source": [
    "# Fractionner les données en train et test\n",
    "from sklearn.model_selection import train_test_split\n",
    "X_train,X_test,y_train,y_test=train_test_split(X,y,test_size=0.2,random_state=4)"
   ]
  },
  {
   "cell_type": "code",
   "execution_count": null,
   "metadata": {
    "id": "nsDCA2lmbzzB"
   },
   "outputs": [],
   "source": []
  },
  {
   "cell_type": "code",
   "execution_count": null,
   "metadata": {
    "colab": {
     "base_uri": "https://localhost:8080/"
    },
    "executionInfo": {
     "elapsed": 325,
     "status": "ok",
     "timestamp": 1681386566256,
     "user": {
      "displayName": "Ndoumbe Thiaw",
      "userId": "00865048007601187203"
     },
     "user_tz": 0
    },
    "id": "Aca8PMoMPwkx",
    "outputId": "5dc8021a-6009-4da6-9d30-b255d5a5e8a0"
   },
   "outputs": [
    {
     "data": {
      "text/plain": [
       "((853, 3), (853,))"
      ]
     },
     "execution_count": 43,
     "metadata": {},
     "output_type": "execute_result"
    }
   ],
   "source": [
    "# Afficher dimension des données train\n",
    "X_train.shape,y_train.shape"
   ]
  },
  {
   "cell_type": "code",
   "execution_count": null,
   "metadata": {
    "colab": {
     "base_uri": "https://localhost:8080/"
    },
    "executionInfo": {
     "elapsed": 250,
     "status": "ok",
     "timestamp": 1681386558052,
     "user": {
      "displayName": "Ndoumbe Thiaw",
      "userId": "00865048007601187203"
     },
     "user_tz": 0
    },
    "id": "hlCYR4VMQCmK",
    "outputId": "62890217-57f1-4239-db48-3c96ff207c88"
   },
   "outputs": [
    {
     "data": {
      "text/plain": [
       "((214, 3), (214,))"
      ]
     },
     "execution_count": 42,
     "metadata": {},
     "output_type": "execute_result"
    }
   ],
   "source": [
    "# Afficher dimension des données test\n",
    "X_test.shape,y_test.shape"
   ]
  },
  {
   "cell_type": "markdown",
   "metadata": {
    "button": false,
    "id": "DhCQtUN_v70D",
    "new_sheet": false,
    "run_control": {
     "read_only": false
    }
   },
   "source": [
    "#### Modelisation\n"
   ]
  },
  {
   "cell_type": "code",
   "execution_count": null,
   "metadata": {
    "id": "Ri796_OtQifm"
   },
   "outputs": [],
   "source": [
    "# Importer le modèle \n",
    "from sklearn.linear_model import LinearRegression"
   ]
  },
  {
   "cell_type": "code",
   "execution_count": null,
   "metadata": {
    "button": false,
    "colab": {
     "base_uri": "https://localhost:8080/",
     "height": 75
    },
    "collapsed": true,
    "executionInfo": {
     "elapsed": 269,
     "status": "ok",
     "timestamp": 1681386727859,
     "user": {
      "displayName": "Ndoumbe Thiaw",
      "userId": "00865048007601187203"
     },
     "user_tz": 0
    },
    "id": "a2acTzNcv70D",
    "new_sheet": false,
    "outputId": "b7b3bf3f-d9ef-4feb-e4a2-f68681080183",
    "run_control": {
     "read_only": false
    }
   },
   "outputs": [
    {
     "data": {
      "text/html": [
       "<style>#sk-container-id-1 {color: black;background-color: white;}#sk-container-id-1 pre{padding: 0;}#sk-container-id-1 div.sk-toggleable {background-color: white;}#sk-container-id-1 label.sk-toggleable__label {cursor: pointer;display: block;width: 100%;margin-bottom: 0;padding: 0.3em;box-sizing: border-box;text-align: center;}#sk-container-id-1 label.sk-toggleable__label-arrow:before {content: \"▸\";float: left;margin-right: 0.25em;color: #696969;}#sk-container-id-1 label.sk-toggleable__label-arrow:hover:before {color: black;}#sk-container-id-1 div.sk-estimator:hover label.sk-toggleable__label-arrow:before {color: black;}#sk-container-id-1 div.sk-toggleable__content {max-height: 0;max-width: 0;overflow: hidden;text-align: left;background-color: #f0f8ff;}#sk-container-id-1 div.sk-toggleable__content pre {margin: 0.2em;color: black;border-radius: 0.25em;background-color: #f0f8ff;}#sk-container-id-1 input.sk-toggleable__control:checked~div.sk-toggleable__content {max-height: 200px;max-width: 100%;overflow: auto;}#sk-container-id-1 input.sk-toggleable__control:checked~label.sk-toggleable__label-arrow:before {content: \"▾\";}#sk-container-id-1 div.sk-estimator input.sk-toggleable__control:checked~label.sk-toggleable__label {background-color: #d4ebff;}#sk-container-id-1 div.sk-label input.sk-toggleable__control:checked~label.sk-toggleable__label {background-color: #d4ebff;}#sk-container-id-1 input.sk-hidden--visually {border: 0;clip: rect(1px 1px 1px 1px);clip: rect(1px, 1px, 1px, 1px);height: 1px;margin: -1px;overflow: hidden;padding: 0;position: absolute;width: 1px;}#sk-container-id-1 div.sk-estimator {font-family: monospace;background-color: #f0f8ff;border: 1px dotted black;border-radius: 0.25em;box-sizing: border-box;margin-bottom: 0.5em;}#sk-container-id-1 div.sk-estimator:hover {background-color: #d4ebff;}#sk-container-id-1 div.sk-parallel-item::after {content: \"\";width: 100%;border-bottom: 1px solid gray;flex-grow: 1;}#sk-container-id-1 div.sk-label:hover label.sk-toggleable__label {background-color: #d4ebff;}#sk-container-id-1 div.sk-serial::before {content: \"\";position: absolute;border-left: 1px solid gray;box-sizing: border-box;top: 0;bottom: 0;left: 50%;z-index: 0;}#sk-container-id-1 div.sk-serial {display: flex;flex-direction: column;align-items: center;background-color: white;padding-right: 0.2em;padding-left: 0.2em;position: relative;}#sk-container-id-1 div.sk-item {position: relative;z-index: 1;}#sk-container-id-1 div.sk-parallel {display: flex;align-items: stretch;justify-content: center;background-color: white;position: relative;}#sk-container-id-1 div.sk-item::before, #sk-container-id-1 div.sk-parallel-item::before {content: \"\";position: absolute;border-left: 1px solid gray;box-sizing: border-box;top: 0;bottom: 0;left: 50%;z-index: -1;}#sk-container-id-1 div.sk-parallel-item {display: flex;flex-direction: column;z-index: 1;position: relative;background-color: white;}#sk-container-id-1 div.sk-parallel-item:first-child::after {align-self: flex-end;width: 50%;}#sk-container-id-1 div.sk-parallel-item:last-child::after {align-self: flex-start;width: 50%;}#sk-container-id-1 div.sk-parallel-item:only-child::after {width: 0;}#sk-container-id-1 div.sk-dashed-wrapped {border: 1px dashed gray;margin: 0 0.4em 0.5em 0.4em;box-sizing: border-box;padding-bottom: 0.4em;background-color: white;}#sk-container-id-1 div.sk-label label {font-family: monospace;font-weight: bold;display: inline-block;line-height: 1.2em;}#sk-container-id-1 div.sk-label-container {text-align: center;}#sk-container-id-1 div.sk-container {/* jupyter's `normalize.less` sets `[hidden] { display: none; }` but bootstrap.min.css set `[hidden] { display: none !important; }` so we also need the `!important` here to be able to override the default hidden behavior on the sphinx rendered scikit-learn.org. See: https://github.com/scikit-learn/scikit-learn/issues/21755 */display: inline-block !important;position: relative;}#sk-container-id-1 div.sk-text-repr-fallback {display: none;}</style><div id=\"sk-container-id-1\" class=\"sk-top-container\"><div class=\"sk-text-repr-fallback\"><pre>LinearRegression()</pre><b>In a Jupyter environment, please rerun this cell to show the HTML representation or trust the notebook. <br />On GitHub, the HTML representation is unable to render, please try loading this page with nbviewer.org.</b></div><div class=\"sk-container\" hidden><div class=\"sk-item\"><div class=\"sk-estimator sk-toggleable\"><input class=\"sk-toggleable__control sk-hidden--visually\" id=\"sk-estimator-id-1\" type=\"checkbox\" checked><label for=\"sk-estimator-id-1\" class=\"sk-toggleable__label sk-toggleable__label-arrow\">LinearRegression</label><div class=\"sk-toggleable__content\"><pre>LinearRegression()</pre></div></div></div></div></div>"
      ],
      "text/plain": [
       "LinearRegression()"
      ]
     },
     "execution_count": 46,
     "metadata": {},
     "output_type": "execute_result"
    }
   ],
   "source": [
    "# Instantier le modèle \n",
    "regr = LinearRegression()\n",
    "# Entrainer le modèle \n",
    "regr.fit(X_train,y_train)"
   ]
  },
  {
   "cell_type": "code",
   "execution_count": null,
   "metadata": {
    "colab": {
     "base_uri": "https://localhost:8080/"
    },
    "executionInfo": {
     "elapsed": 457,
     "status": "ok",
     "timestamp": 1681386803933,
     "user": {
      "displayName": "Ndoumbe Thiaw",
      "userId": "00865048007601187203"
     },
     "user_tz": 0
    },
    "id": "CfVEGOmHLPdQ",
    "outputId": "f2eff687-4aec-400b-9e0f-546d82e06d7e"
   },
   "outputs": [
    {
     "name": "stdout",
     "output_type": "stream",
     "text": [
      "Coefficients:  [14.49957117 13.73244809 33.72936783]\n",
      "Intercept:  255.95274560696367\n"
     ]
    }
   ],
   "source": [
    "# Les coefficients\n",
    "print('Coefficients: ', regr.coef_)\n",
    "print('Intercept: ', regr.intercept_)"
   ]
  },
  {
   "cell_type": "code",
   "execution_count": null,
   "metadata": {
    "colab": {
     "base_uri": "https://localhost:8080/"
    },
    "executionInfo": {
     "elapsed": 14,
     "status": "ok",
     "timestamp": 1681387221398,
     "user": {
      "displayName": "Ndoumbe Thiaw",
      "userId": "00865048007601187203"
     },
     "user_tz": 0
    },
    "id": "4cLTCcRoMTLt",
    "outputId": "c41eec25-c147-4e70-f4d0-899a7744c049"
   },
   "outputs": [
    {
     "data": {
      "text/plain": [
       "array([259.39421287])"
      ]
     },
     "execution_count": 52,
     "metadata": {},
     "output_type": "execute_result"
    }
   ],
   "source": [
    "# Prédire la quantité de CO2 émit par l'observation 0 des données test en utilisant le coefficient (pente) et l'intercept(l'ordonnée d'origine)\n",
    "Y_pred_1 = np.dot(regr.coef_,X_test[:1].T)+regr.intercept_\n",
    "Y_pred_1"
   ]
  },
  {
   "cell_type": "code",
   "execution_count": null,
   "metadata": {
    "colab": {
     "base_uri": "https://localhost:8080/"
    },
    "executionInfo": {
     "elapsed": 349,
     "status": "ok",
     "timestamp": 1681387382391,
     "user": {
      "displayName": "Ndoumbe Thiaw",
      "userId": "00865048007601187203"
     },
     "user_tz": 0
    },
    "id": "pl5eFa2YNYwx",
    "outputId": "b05b475e-8142-4497-e4b2-170ba34731b7"
   },
   "outputs": [
    {
     "data": {
      "text/plain": [
       "array([259.39421287])"
      ]
     },
     "execution_count": 55,
     "metadata": {},
     "output_type": "execute_result"
    }
   ],
   "source": [
    "\n",
    "# Prédire la quantité de CO2 émit par l'observation 0 des données test en utilisant le coefficient (pente) et l'intercept(l'ordonnée d'origine)\n",
    "Y_pred_1 =  regr.predict(X_test[:1])\n",
    "Y_pred_1 "
   ]
  },
  {
   "cell_type": "code",
   "execution_count": null,
   "metadata": {
    "colab": {
     "base_uri": "https://localhost:8080/"
    },
    "executionInfo": {
     "elapsed": 247,
     "status": "ok",
     "timestamp": 1681387434999,
     "user": {
      "displayName": "Ndoumbe Thiaw",
      "userId": "00865048007601187203"
     },
     "user_tz": 0
    },
    "id": "zYX9-yKAPrkw",
    "outputId": "ea51bfd9-8454-4652-ec30-48cdb8b69270"
   },
   "outputs": [
    {
     "data": {
      "text/plain": [
       "array([259.39421287, 216.04051098, 255.40887315, 261.21766954,\n",
       "       294.43880893, 256.37700588, 162.45478433, 186.77091143,\n",
       "       318.01242088, 261.90378029, 217.29066569, 251.25432023,\n",
       "       314.30910314, 255.52168194, 205.39105093, 313.84860998,\n",
       "       284.73487709, 333.21126462, 390.84799338, 251.25432023,\n",
       "       231.53063469, 261.90378029, 204.70494018, 253.1905857 ,\n",
       "       322.85308454, 197.64598907, 222.13132936, 264.12206773,\n",
       "       186.65810264, 200.55038727, 338.05192828, 211.19984732,\n",
       "       248.63194402, 189.67530963, 270.89899686, 184.72183717,\n",
       "       189.67530963, 255.46527754, 332.24313189, 302.92638593,\n",
       "       211.19984732, 264.80817848, 263.153935  , 227.88372135,\n",
       "       334.63989052, 197.64598907, 257.23232982, 217.2342613 ,\n",
       "       250.2861875 , 307.64498281, 263.2103394 , 304.84004688,\n",
       "       199.86427652, 341.92445921, 319.72306876, 368.51334078,\n",
       "       203.45478546, 299.03125049, 212.45000203, 209.48919944,\n",
       "       214.10424552, 208.57747111, 309.34228416, 310.26735902,\n",
       "       301.87924429, 308.10547597, 304.84004688, 246.63927416,\n",
       "       249.60007675, 253.47260768, 220.30787268, 328.37060096,\n",
       "       326.72561547, 317.82060318, 332.81643385, 215.07237825,\n",
       "       212.16798005, 186.77091143, 185.8027787 , 336.18132521,\n",
       "       256.43341027, 208.52106671, 253.35979889, 267.02646593,\n",
       "       260.3623456 , 206.64120564, 262.29861106, 303.65964309,\n",
       "       291.70362392, 367.29698595, 292.61535226, 314.30910314,\n",
       "       247.66381129, 258.48248453, 252.50447495, 199.80787212,\n",
       "       391.1752244 , 301.44135564, 189.61890523, 224.01119042,\n",
       "       199.58225453, 204.70494018, 198.50131301, 182.04305656,\n",
       "       187.62623537, 306.56404129, 261.21766954, 343.5222983 ,\n",
       "       358.84320882, 391.1752244 , 253.52901208, 193.77345814,\n",
       "       328.08857898, 230.92353286, 201.51852   , 307.74444508,\n",
       "       316.47098619, 205.39105093, 249.54367236, 204.19730061,\n",
       "       318.98055361, 237.70046198, 257.06311663, 186.02839628,\n",
       "       278.75686751, 269.41396657, 258.36967574, 257.40154301,\n",
       "       302.35308398, 259.39421287, 174.92770106, 217.2342613 ,\n",
       "       340.44868691, 256.43341027, 436.68865817, 247.72021568,\n",
       "       185.6899699 , 194.51597329, 298.42414865, 323.65200409,\n",
       "       209.26358185, 265.25941366, 253.47260768, 314.53472073,\n",
       "       313.80146357, 368.35532295, 253.52901208, 258.03124936,\n",
       "       181.87384337, 226.36489118, 180.84930624, 220.09355736,\n",
       "       300.5860317 , 369.88749965, 241.57299291, 256.54621907,\n",
       "       185.6899699 , 197.64598907, 180.84930624, 250.2861875 ,\n",
       "       219.17052676, 183.81010884, 215.07237825, 271.92353399,\n",
       "       245.44552384, 249.60007675, 334.80910371, 223.96608829,\n",
       "       183.12399809, 301.93564869, 256.20779269, 301.9582532 ,\n",
       "       203.68040305, 373.52321763, 265.25941366, 257.40154301,\n",
       "       370.29158842, 194.62878208, 248.34992204, 187.73904416,\n",
       "       271.01180565, 215.29799583, 215.29799583, 247.77662008,\n",
       "       226.91558862, 258.36967574, 280.86234616, 294.43880893,\n",
       "       177.31520169, 187.73904416, 340.44868691, 252.22245297,\n",
       "       192.57970782, 378.1946681 , 306.3948281 , 196.45223875,\n",
       "       182.8983805 , 223.96608829, 257.40154301, 212.39359764,\n",
       "       216.04051098, 176.12145138, 209.26358185, 265.25941366,\n",
       "       189.67530963, 179.9939823 , 182.8419761 , 341.92445921,\n",
       "       205.27824213, 226.68997103, 314.53472073, 323.65200409,\n",
       "       186.77091143, 282.51658965])"
      ]
     },
     "execution_count": 56,
     "metadata": {},
     "output_type": "execute_result"
    }
   ],
   "source": [
    "# Prédire les données test\n",
    "Y_pred = regr.predict(X_test)\n",
    "Y_pred"
   ]
  },
  {
   "cell_type": "code",
   "execution_count": null,
   "metadata": {
    "colab": {
     "base_uri": "https://localhost:8080/"
    },
    "executionInfo": {
     "elapsed": 14,
     "status": "ok",
     "timestamp": 1681387651344,
     "user": {
      "displayName": "Ndoumbe Thiaw",
      "userId": "00865048007601187203"
     },
     "user_tz": 0
    },
    "id": "cgq55XR7QJ3Q",
    "outputId": "3ada93d9-8901-42a0-8380-3669a1717178"
   },
   "outputs": [
    {
     "data": {
      "text/plain": [
       "0.869310240904918"
      ]
     },
     "execution_count": 59,
     "metadata": {},
     "output_type": "execute_result"
    }
   ],
   "source": [
    "# Evaluer le modèle \n",
    "from sklearn.metrics import r2_score,mean_squared_error\n",
    "# Indice r2\n",
    "R2_regr = r2_score(Y_pred,y_test)\n",
    "R2_regr"
   ]
  },
  {
   "cell_type": "code",
   "execution_count": null,
   "metadata": {
    "colab": {
     "base_uri": "https://localhost:8080/"
    },
    "executionInfo": {
     "elapsed": 259,
     "status": "ok",
     "timestamp": 1681387877591,
     "user": {
      "displayName": "Ndoumbe Thiaw",
      "userId": "00865048007601187203"
     },
     "user_tz": 0
    },
    "id": "0fZMXMgng9CS",
    "outputId": "5575323b-fed0-445d-f9b2-fd5618832a90"
   },
   "outputs": [
    {
     "data": {
      "text/plain": [
       "20.208303494761264"
      ]
     },
     "execution_count": 61,
     "metadata": {},
     "output_type": "execute_result"
    }
   ],
   "source": [
    "from math import sqrt\n",
    "rmse_regr= sqrt(mean_squared_error(Y_pred,y_test))\n",
    "rmse_regr"
   ]
  }
 ],
 "metadata": {
  "colab": {
   "provenance": []
  },
  "kernelspec": {
   "display_name": "Python 3 (ipykernel)",
   "language": "python",
   "name": "python3"
  },
  "language_info": {
   "codemirror_mode": {
    "name": "ipython",
    "version": 3
   },
   "file_extension": ".py",
   "mimetype": "text/x-python",
   "name": "python",
   "nbconvert_exporter": "python",
   "pygments_lexer": "ipython3",
   "version": "3.9.13"
  }
 },
 "nbformat": 4,
 "nbformat_minor": 1
}
